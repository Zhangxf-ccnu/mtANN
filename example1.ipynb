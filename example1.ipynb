{
 "cells": [
  {
   "cell_type": "code",
   "execution_count": 1,
   "id": "seventh-commons",
   "metadata": {},
   "outputs": [],
   "source": [
    "from mtANN_model import *\n",
    "import numpy as np\n",
    "from collections import Counter"
   ]
  },
  {
   "cell_type": "code",
   "execution_count": 2,
   "id": "appropriate-mortality",
   "metadata": {},
   "outputs": [],
   "source": [
    "data_collection = [\"baron\",\"muraro\",\"seg\",\"xin\"]\n",
    "dt = 0\n",
    "\n",
    "target = data_collection[dt]\n",
    "target_dataset = {}\n",
    "target_dataset[\"expression\"] = pd.read_csv(\"./datasets/panc/{}.csv\".format(target), header=0, index_col=0)\n",
    "target_dataset[\"expression\"] = target_dataset[\"expression\"].div(target_dataset[\"expression\"].apply(lambda x: x.sum(), axis=1), axis=0) * 10000\n",
    "target_dataset[\"cell_type\"] = pd.read_csv(\"./datasets/panc/{}_label.csv\".format(target), header=0, index_col=False).x.values"
   ]
  },
  {
   "cell_type": "code",
   "execution_count": 3,
   "id": "chinese-border",
   "metadata": {},
   "outputs": [
    {
     "name": "stdout",
     "output_type": "stream",
     "text": [
      "source is muraro\n",
      "source is seg\n",
      "source is xin\n"
     ]
    }
   ],
   "source": [
    "epr_s = list()\n",
    "label_s = list()\n",
    "for ds in set(np.arange(len(data_collection))).difference(set([dt])):\n",
    "    source = data_collection[ds]\n",
    "    print(\"source is {}\".format(source))\n",
    "    source_dataset = {}\n",
    "    source_dataset[\"expression\"] = pd.read_csv(\"./datasets/panc/{}.csv\".format(source), header=0, index_col=0)\n",
    "    source_dataset[\"cell_type\"] = pd.read_csv(\"./datasets/panc/{}_label.csv\".format(source), header=0, index_col=False).x.values\n",
    "    source_dataset[\"expression\"] = source_dataset[\"expression\"].div(source_dataset[\"expression\"].apply(lambda x: x.sum(), axis=1), axis=0) * 10000\n",
    "\n",
    "    epr_s.append(source_dataset[\"expression\"])\n",
    "    label_s.append(source_dataset[\"cell_type\"])"
   ]
  },
  {
   "cell_type": "code",
   "execution_count": 4,
   "id": "disturbed-milan",
   "metadata": {},
   "outputs": [
    {
     "name": "stdout",
     "output_type": "stream",
     "text": [
      "Selecting genes of 1-th reference\n",
      "Selecting genes of 2-th reference\n",
      "Selecting genes of 3-th reference\n",
      "training 1-th classification model\n",
      "training 2-th classification model\n",
      "training 3-th classification model\n",
      "training 4-th classification model\n",
      "training 5-th classification model\n",
      "training 6-th classification model\n",
      "training 7-th classification model\n",
      "training 8-th classification model\n",
      "training 9-th classification model\n",
      "training 10-th classification model\n",
      "training 11-th classification model\n",
      "training 12-th classification model\n",
      "training 13-th classification model\n",
      "training 14-th classification model\n",
      "training 15-th classification model\n",
      "training 16-th classification model\n",
      "training 17-th classification model\n",
      "training 18-th classification model\n",
      "training 19-th classification model\n",
      "training 20-th classification model\n",
      "training 21-th classification model\n",
      "training 22-th classification model\n",
      "training 23-th classification model\n",
      "training 24-th classification model\n"
     ]
    }
   ],
   "source": [
    "mid_annotation, final_annotation, m, threshold = mtANN(expression_s = epr_s, label_s=label_s, expression_t=target_dataset[\"expression\"], threshold=\"default\", gene_select=\"default\")"
   ]
  },
  {
   "cell_type": "code",
   "execution_count": 5,
   "id": "invisible-glass",
   "metadata": {},
   "outputs": [
    {
     "name": "stdout",
     "output_type": "stream",
     "text": [
      "The annotation accuracy with the default threshold is 0.8863583274935762\n"
     ]
    }
   ],
   "source": [
    "accuracy = sum(final_annotation[:,0] == target_dataset[\"cell_type\"])/final_annotation.shape[0]\n",
    "print(\"The annotation accuracy with the default threshold is {}\".format(accuracy))"
   ]
  },
  {
   "cell_type": "code",
   "execution_count": null,
   "id": "civilian-interval",
   "metadata": {},
   "outputs": [],
   "source": []
  }
 ],
 "metadata": {
  "kernelspec": {
   "display_name": "Python 3",
   "language": "python",
   "name": "python3"
  },
  "language_info": {
   "codemirror_mode": {
    "name": "ipython",
    "version": 3
   },
   "file_extension": ".py",
   "mimetype": "text/x-python",
   "name": "python",
   "nbconvert_exporter": "python",
   "pygments_lexer": "ipython3",
   "version": "3.8.8"
  }
 },
 "nbformat": 4,
 "nbformat_minor": 5
}
