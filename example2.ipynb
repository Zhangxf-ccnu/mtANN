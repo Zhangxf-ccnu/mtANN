{
 "cells": [
  {
   "cell_type": "code",
   "execution_count": 1,
   "id": "enclosed-parks",
   "metadata": {},
   "outputs": [],
   "source": [
    "from mtANN_model import *\n",
    "import numpy as np\n",
    "from collections import Counter"
   ]
  },
  {
   "cell_type": "markdown",
   "id": "caring-southeast",
   "metadata": {},
   "source": [
    "# load query data"
   ]
  },
  {
   "cell_type": "code",
   "execution_count": 2,
   "id": "broad-nudist",
   "metadata": {},
   "outputs": [
    {
     "name": "stdout",
     "output_type": "stream",
     "text": [
      "query dataset is v3, the unseen cell type is B cell\n",
      "The proportion of unseen cell types is 0.1130718954248366\n"
     ]
    }
   ],
   "source": [
    "data_collection = [\"v2\",\"v3\",\"cl\",\"dr\",\"id\",\"sw\",\"sm2\"]\n",
    "features = [\"de\",\"dv\",\"dd\",\"dp\",\"bi\",\"gc\",\"disp\",\"vst\"]\n",
    "dt = 1 \n",
    "unseen_ct = \"B cell\"\n",
    "\n",
    "target = data_collection[dt]\n",
    "print(\"query dataset is {}, the unseen cell type is {}\".format(target,unseen_ct))\n",
    "target_dataset = {}\n",
    "target_dataset[\"expression\"] = pd.read_csv(\"./datasets/pbmc/{}.csv\".format(target), header=0, index_col=0)\n",
    "target_dataset[\"cell_type\"] = pd.read_csv(\"./datasets/pbmc/{}_label.csv\".format(target), header=0, index_col=False).x.values\n",
    "target_dataset[\"cell_type\"][np.where(target_dataset[\"cell_type\"] == unseen_ct)[0]] = \"unassigned\"\n",
    "unseen_prop = len(np.where(target_dataset[\"cell_type\"] == \"unassigned\")[0])/len(target_dataset[\"cell_type\"])\n",
    "print(\"The proportion of unseen cell types is {}\".format(unseen_prop))"
   ]
  },
  {
   "cell_type": "markdown",
   "id": "banned-customs",
   "metadata": {},
   "source": [
    "# load reference datasets and obtain reference subsets"
   ]
  },
  {
   "cell_type": "code",
   "execution_count": 3,
   "id": "shared-postcard",
   "metadata": {},
   "outputs": [
    {
     "name": "stdout",
     "output_type": "stream",
     "text": [
      "source is v2, gene selection method is de\n",
      "source is v2, gene selection method is dv\n",
      "source is v2, gene selection method is dd\n",
      "source is v2, gene selection method is dp\n",
      "source is v2, gene selection method is bi\n",
      "source is v2, gene selection method is gc\n",
      "source is v2, gene selection method is disp\n",
      "source is v2, gene selection method is vst\n",
      "source is cl, gene selection method is de\n",
      "source is cl, gene selection method is dv\n",
      "source is cl, gene selection method is dd\n",
      "source is cl, gene selection method is dp\n",
      "source is cl, gene selection method is bi\n",
      "source is cl, gene selection method is gc\n",
      "source is cl, gene selection method is disp\n",
      "source is cl, gene selection method is vst\n",
      "source is dr, gene selection method is de\n",
      "source is dr, gene selection method is dv\n",
      "source is dr, gene selection method is dd\n",
      "source is dr, gene selection method is dp\n",
      "source is dr, gene selection method is bi\n",
      "source is dr, gene selection method is gc\n",
      "source is dr, gene selection method is disp\n",
      "source is dr, gene selection method is vst\n",
      "source is id, gene selection method is de\n",
      "source is id, gene selection method is dv\n",
      "source is id, gene selection method is dd\n",
      "source is id, gene selection method is dp\n",
      "source is id, gene selection method is bi\n",
      "source is id, gene selection method is gc\n",
      "source is id, gene selection method is disp\n",
      "source is id, gene selection method is vst\n",
      "source is sw, gene selection method is de\n",
      "source is sw, gene selection method is dv\n",
      "source is sw, gene selection method is dd\n",
      "source is sw, gene selection method is dp\n",
      "source is sw, gene selection method is bi\n",
      "source is sw, gene selection method is gc\n",
      "source is sw, gene selection method is disp\n",
      "source is sw, gene selection method is vst\n",
      "source is sm2, gene selection method is de\n",
      "source is sm2, gene selection method is dv\n",
      "source is sm2, gene selection method is dd\n",
      "source is sm2, gene selection method is dp\n",
      "source is sm2, gene selection method is bi\n",
      "source is sm2, gene selection method is gc\n",
      "source is sm2, gene selection method is disp\n",
      "source is sm2, gene selection method is vst\n"
     ]
    }
   ],
   "source": [
    "epr_s = list()\n",
    "label_s = list()\n",
    "epr_t = list()\n",
    "label_t = list()\n",
    "for ds in set(np.arange(len(data_collection))).difference(set([dt])):\n",
    "    for g in range(len(features)):\n",
    "        source = data_collection[ds]\n",
    "        gene = features[g]\n",
    "        print(\"source is {}, gene selection method is {}\".format(source,gene))\n",
    "        source_dataset = {}\n",
    "        source_dataset[\"expression\"] = pd.read_csv(\"./datasets/pbmc/{}.csv\".format(source), header=0, index_col=0)\n",
    "        source_dataset[\"cell_type\"] = pd.read_csv(\"./datasets/pbmc/{}_label.csv\".format(source), header=0, index_col=False).x.values\n",
    "        target_dataset[\"expression\"] = pd.read_csv(\"./datasets/pbmc/{}.csv\".format(target), header=0, index_col=0)\n",
    "        \n",
    "        source_dataset[\"expression\"] = source_dataset[\"expression\"].div(source_dataset[\"expression\"].apply(lambda x: x.sum(), axis=1), axis=0) * 10000\n",
    "        target_dataset[\"expression\"] = target_dataset[\"expression\"].div(target_dataset[\"expression\"].apply(lambda x: x.sum(), axis=1), axis=0) * 10000\n",
    "        \n",
    "        select_gene_ref = pd.read_csv(\"./datasets/pbmc/pbmc_genes/_{}_{}_.csv\".format(source, gene), header=0, index_col=0)[\"x\"]\n",
    "        # select_gene_ref = select_gene(source_dataset[\"expression\"], source_dataset[\"cell_type\"], gene)\n",
    "        gene_select = set(select_gene_ref).intersection(set(target_dataset[\"expression\"].columns))\n",
    "        \n",
    "        source_dataset[\"expression\"] = source_dataset[\"expression\"][np.array(list(gene_select))]\n",
    "        target_dataset[\"expression\"] = target_dataset[\"expression\"][np.array(list(gene_select))]\n",
    "\n",
    "        id = np.where(source_dataset[\"cell_type\"] == unseen_ct)[0]\n",
    "        id_name = source_dataset[\"expression\"].index[id]\n",
    "        source_dataset[\"expression\"] = source_dataset[\"expression\"].drop(id_name, axis = 0)\n",
    "        source_dataset[\"cell_type\"] = np.delete(source_dataset[\"cell_type\"],id)\n",
    "\n",
    "        data_s, data_t = preprocess(source_dataset, target_dataset)\n",
    "        epr_s.append(data_s[\"expression\"])\n",
    "        epr_t.append(data_t[\"expression\"])\n",
    "        label_t.append(data_t[\"cell_type\"])\n",
    "        label_s.append(data_s[\"cell_type\"])"
   ]
  },
  {
   "cell_type": "markdown",
   "id": "photographic-coffee",
   "metadata": {},
   "source": [
    "# train deep classification models and annotate query data"
   ]
  },
  {
   "cell_type": "code",
   "execution_count": 6,
   "id": "characteristic-physiology",
   "metadata": {},
   "outputs": [
    {
     "name": "stdout",
     "output_type": "stream",
     "text": [
      "training 1-th classification model\n",
      "training 2-th classification model\n",
      "training 3-th classification model\n",
      "training 4-th classification model\n",
      "training 5-th classification model\n",
      "training 6-th classification model\n",
      "training 7-th classification model\n",
      "training 8-th classification model\n",
      "training 9-th classification model\n",
      "training 10-th classification model\n",
      "training 11-th classification model\n",
      "training 12-th classification model\n",
      "training 13-th classification model\n",
      "training 14-th classification model\n",
      "training 15-th classification model\n",
      "training 16-th classification model\n",
      "training 17-th classification model\n",
      "training 18-th classification model\n",
      "training 19-th classification model\n",
      "training 20-th classification model\n",
      "training 21-th classification model\n",
      "training 22-th classification model\n",
      "training 23-th classification model\n",
      "training 24-th classification model\n",
      "training 25-th classification model\n",
      "training 26-th classification model\n",
      "training 27-th classification model\n",
      "training 28-th classification model\n",
      "training 29-th classification model\n",
      "training 30-th classification model\n",
      "training 31-th classification model\n",
      "training 32-th classification model\n",
      "training 33-th classification model\n",
      "training 34-th classification model\n",
      "training 35-th classification model\n",
      "training 36-th classification model\n",
      "training 37-th classification model\n",
      "training 38-th classification model\n",
      "training 39-th classification model\n",
      "training 40-th classification model\n",
      "training 41-th classification model\n",
      "training 42-th classification model\n",
      "training 43-th classification model\n",
      "training 44-th classification model\n",
      "training 45-th classification model\n",
      "training 46-th classification model\n",
      "training 47-th classification model\n",
      "training 48-th classification model\n"
     ]
    }
   ],
   "source": [
    "mid_annotation, final_annotation, m, threshold = mtANN(expression_s = epr_s, label_s=label_s, expression_t=epr_t, threshold=\"default\", gene_select=\"none\")"
   ]
  },
  {
   "cell_type": "markdown",
   "id": "southern-absence",
   "metadata": {},
   "source": [
    "# calculate annotation accuracy"
   ]
  },
  {
   "cell_type": "code",
   "execution_count": 7,
   "id": "medical-modification",
   "metadata": {},
   "outputs": [
    {
     "name": "stdout",
     "output_type": "stream",
     "text": [
      "The annotation accuracy with the default threshold is 0.9081699346405229\n",
      "The annotation accuracy of unseen cell type with the default threshold is 0.8208092485549133\n"
     ]
    }
   ],
   "source": [
    "accuracy = sum(final_annotation[:,0] == target_dataset[\"cell_type\"])/final_annotation.shape[0]\n",
    "accuracy_unseen = len(set(np.where(target_dataset[\"cell_type\"] == \"unassigned\")[0]).intersection(set(np.where(final_annotation[:,0] == \"unassigned\")[0])))/len(np.where(target_dataset[\"cell_type\"] == \"unassigned\")[0])\n",
    "print(\"The annotation accuracy with the default threshold is {}\".format(accuracy))\n",
    "print(\"The annotation accuracy of unseen cell type with the default threshold is {}\".format(accuracy_unseen))"
   ]
  },
  {
   "cell_type": "code",
   "execution_count": null,
   "id": "cubic-missouri",
   "metadata": {},
   "outputs": [],
   "source": []
  }
 ],
 "metadata": {
  "kernelspec": {
   "display_name": "Python 3",
   "language": "python",
   "name": "python3"
  },
  "language_info": {
   "codemirror_mode": {
    "name": "ipython",
    "version": 3
   },
   "file_extension": ".py",
   "mimetype": "text/x-python",
   "name": "python",
   "nbconvert_exporter": "python",
   "pygments_lexer": "ipython3",
   "version": "3.8.8"
  }
 },
 "nbformat": 4,
 "nbformat_minor": 5
}
